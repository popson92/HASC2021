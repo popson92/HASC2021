{
  "nbformat": 4,
  "nbformat_minor": 0,
  "metadata": {
    "colab": {
      "name": "Stage_C_quiz.ipynb",
      "provenance": [],
      "collapsed_sections": [],
      "authorship_tag": "ABX9TyOiQUwhQw7DV/zV83z0ZdgA"
    },
    "kernelspec": {
      "name": "python3",
      "display_name": "Python 3"
    },
    "language_info": {
      "name": "python"
    }
  },
  "cells": [
    {
      "cell_type": "markdown",
      "metadata": {
        "id": "Z1vP5Iw91yN0"
      },
      "source": [
        "##importing Packages"
      ]
    },
    {
      "cell_type": "code",
      "metadata": {
        "id": "qzmj04V-16mR"
      },
      "source": [
        "import pandas as pd\n",
        "import numpy as np\n",
        "import matplotlib.pyplot as plt\n",
        "import seaborn as sns\n",
        "\n",
        "from sklearn.model_selection import train_test_split \n",
        "from sklearn.metrics import accuracy_score, confusion_matrix, classification_report, f1_score\n",
        "from sklearn.model_selection import cross_val_score, RandomizedSearchCV, KFold, StratifiedKFold\n",
        "# Classifier models\n",
        "from sklearn.ensemble import RandomForestClassifier, ExtraTreesClassifier\n",
        "from xgboost import XGBClassifier, XGBRFClassifier\n",
        "from lightgbm import LGBMClassifier\n",
        "# for feature scaling\n",
        "from sklearn.preprocessing import StandardScaler"
      ],
      "execution_count": 1,
      "outputs": []
    },
    {
      "cell_type": "markdown",
      "metadata": {
        "id": "jLkGyr3J2FF5"
      },
      "source": [
        " ## LOADING THE DATASET\n",
        "\n"
      ]
    },
    {
      "cell_type": "code",
      "metadata": {
        "id": "BvV5W5da28jb"
      },
      "source": [
        "data = pd.read_csv('https://archive.ics.uci.edu/ml/machine-learning-databases/00471/Data_for_UCI_named.csv')"
      ],
      "execution_count": 2,
      "outputs": []
    },
    {
      "cell_type": "code",
      "metadata": {
        "colab": {
          "base_uri": "https://localhost:8080/"
        },
        "id": "AZh8DAuzd_SL",
        "outputId": "73e50db6-9663-41b3-f6c9-6ee3ead9ee01"
      },
      "source": [
        "data.info()"
      ],
      "execution_count": 3,
      "outputs": [
        {
          "output_type": "stream",
          "name": "stdout",
          "text": [
            "<class 'pandas.core.frame.DataFrame'>\n",
            "RangeIndex: 10000 entries, 0 to 9999\n",
            "Data columns (total 14 columns):\n",
            " #   Column  Non-Null Count  Dtype  \n",
            "---  ------  --------------  -----  \n",
            " 0   tau1    10000 non-null  float64\n",
            " 1   tau2    10000 non-null  float64\n",
            " 2   tau3    10000 non-null  float64\n",
            " 3   tau4    10000 non-null  float64\n",
            " 4   p1      10000 non-null  float64\n",
            " 5   p2      10000 non-null  float64\n",
            " 6   p3      10000 non-null  float64\n",
            " 7   p4      10000 non-null  float64\n",
            " 8   g1      10000 non-null  float64\n",
            " 9   g2      10000 non-null  float64\n",
            " 10  g3      10000 non-null  float64\n",
            " 11  g4      10000 non-null  float64\n",
            " 12  stab    10000 non-null  float64\n",
            " 13  stabf   10000 non-null  object \n",
            "dtypes: float64(13), object(1)\n",
            "memory usage: 1.1+ MB\n"
          ]
        }
      ]
    },
    {
      "cell_type": "markdown",
      "metadata": {
        "id": "tEwIpRA4f9yU"
      },
      "source": [
        "# **Wow No missing value**"
      ]
    },
    {
      "cell_type": "code",
      "metadata": {
        "colab": {
          "base_uri": "https://localhost:8080/",
          "height": 471
        },
        "id": "G3vYOAHjfR_p",
        "outputId": "e0954e39-5911-4345-82b6-bf190a4c76ff"
      },
      "source": [
        "data.head(10).T"
      ],
      "execution_count": 4,
      "outputs": [
        {
          "output_type": "execute_result",
          "data": {
            "text/html": [
              "<div>\n",
              "<style scoped>\n",
              "    .dataframe tbody tr th:only-of-type {\n",
              "        vertical-align: middle;\n",
              "    }\n",
              "\n",
              "    .dataframe tbody tr th {\n",
              "        vertical-align: top;\n",
              "    }\n",
              "\n",
              "    .dataframe thead th {\n",
              "        text-align: right;\n",
              "    }\n",
              "</style>\n",
              "<table border=\"1\" class=\"dataframe\">\n",
              "  <thead>\n",
              "    <tr style=\"text-align: right;\">\n",
              "      <th></th>\n",
              "      <th>0</th>\n",
              "      <th>1</th>\n",
              "      <th>2</th>\n",
              "      <th>3</th>\n",
              "      <th>4</th>\n",
              "      <th>5</th>\n",
              "      <th>6</th>\n",
              "      <th>7</th>\n",
              "      <th>8</th>\n",
              "      <th>9</th>\n",
              "    </tr>\n",
              "  </thead>\n",
              "  <tbody>\n",
              "    <tr>\n",
              "      <th>tau1</th>\n",
              "      <td>2.95906</td>\n",
              "      <td>9.3041</td>\n",
              "      <td>8.97171</td>\n",
              "      <td>0.716415</td>\n",
              "      <td>3.13411</td>\n",
              "      <td>6.99921</td>\n",
              "      <td>6.71017</td>\n",
              "      <td>6.95351</td>\n",
              "      <td>4.68985</td>\n",
              "      <td>9.8415</td>\n",
              "    </tr>\n",
              "    <tr>\n",
              "      <th>tau2</th>\n",
              "      <td>3.07989</td>\n",
              "      <td>4.90252</td>\n",
              "      <td>8.84843</td>\n",
              "      <td>7.6696</td>\n",
              "      <td>7.60877</td>\n",
              "      <td>9.10925</td>\n",
              "      <td>3.7652</td>\n",
              "      <td>1.37913</td>\n",
              "      <td>4.00775</td>\n",
              "      <td>1.41382</td>\n",
              "    </tr>\n",
              "    <tr>\n",
              "      <th>tau3</th>\n",
              "      <td>8.38103</td>\n",
              "      <td>3.04754</td>\n",
              "      <td>3.04648</td>\n",
              "      <td>4.48664</td>\n",
              "      <td>4.94376</td>\n",
              "      <td>3.78407</td>\n",
              "      <td>6.92931</td>\n",
              "      <td>5.7194</td>\n",
              "      <td>1.47857</td>\n",
              "      <td>9.76986</td>\n",
              "    </tr>\n",
              "    <tr>\n",
              "      <th>tau4</th>\n",
              "      <td>9.78075</td>\n",
              "      <td>1.36936</td>\n",
              "      <td>1.21452</td>\n",
              "      <td>2.34056</td>\n",
              "      <td>9.85757</td>\n",
              "      <td>4.26779</td>\n",
              "      <td>8.81856</td>\n",
              "      <td>7.87031</td>\n",
              "      <td>3.73379</td>\n",
              "      <td>7.64162</td>\n",
              "    </tr>\n",
              "    <tr>\n",
              "      <th>p1</th>\n",
              "      <td>3.76308</td>\n",
              "      <td>5.06781</td>\n",
              "      <td>3.40516</td>\n",
              "      <td>3.96379</td>\n",
              "      <td>3.52581</td>\n",
              "      <td>4.42967</td>\n",
              "      <td>2.39742</td>\n",
              "      <td>3.2245</td>\n",
              "      <td>4.0413</td>\n",
              "      <td>4.7276</td>\n",
              "    </tr>\n",
              "    <tr>\n",
              "      <th>p2</th>\n",
              "      <td>-0.782604</td>\n",
              "      <td>-1.94006</td>\n",
              "      <td>-1.20746</td>\n",
              "      <td>-1.02747</td>\n",
              "      <td>-1.12553</td>\n",
              "      <td>-1.85714</td>\n",
              "      <td>-0.61459</td>\n",
              "      <td>-0.748998</td>\n",
              "      <td>-1.41034</td>\n",
              "      <td>-1.99136</td>\n",
              "    </tr>\n",
              "    <tr>\n",
              "      <th>p3</th>\n",
              "      <td>-1.25739</td>\n",
              "      <td>-1.87274</td>\n",
              "      <td>-1.27721</td>\n",
              "      <td>-1.93894</td>\n",
              "      <td>-1.84597</td>\n",
              "      <td>-0.670397</td>\n",
              "      <td>-1.20883</td>\n",
              "      <td>-1.18652</td>\n",
              "      <td>-1.2382</td>\n",
              "      <td>-0.857637</td>\n",
              "    </tr>\n",
              "    <tr>\n",
              "      <th>p4</th>\n",
              "      <td>-1.72309</td>\n",
              "      <td>-1.25501</td>\n",
              "      <td>-0.920492</td>\n",
              "      <td>-0.997374</td>\n",
              "      <td>-0.554305</td>\n",
              "      <td>-1.90213</td>\n",
              "      <td>-0.574004</td>\n",
              "      <td>-1.28898</td>\n",
              "      <td>-1.39275</td>\n",
              "      <td>-1.87859</td>\n",
              "    </tr>\n",
              "    <tr>\n",
              "      <th>g1</th>\n",
              "      <td>0.650456</td>\n",
              "      <td>0.413441</td>\n",
              "      <td>0.163041</td>\n",
              "      <td>0.446209</td>\n",
              "      <td>0.79711</td>\n",
              "      <td>0.261793</td>\n",
              "      <td>0.17789</td>\n",
              "      <td>0.371385</td>\n",
              "      <td>0.269708</td>\n",
              "      <td>0.376356</td>\n",
              "    </tr>\n",
              "    <tr>\n",
              "      <th>g2</th>\n",
              "      <td>0.859578</td>\n",
              "      <td>0.862414</td>\n",
              "      <td>0.766689</td>\n",
              "      <td>0.976744</td>\n",
              "      <td>0.45545</td>\n",
              "      <td>0.0779297</td>\n",
              "      <td>0.397977</td>\n",
              "      <td>0.633204</td>\n",
              "      <td>0.250364</td>\n",
              "      <td>0.544415</td>\n",
              "    </tr>\n",
              "    <tr>\n",
              "      <th>g3</th>\n",
              "      <td>0.887445</td>\n",
              "      <td>0.562139</td>\n",
              "      <td>0.839444</td>\n",
              "      <td>0.929381</td>\n",
              "      <td>0.656947</td>\n",
              "      <td>0.542884</td>\n",
              "      <td>0.402046</td>\n",
              "      <td>0.732741</td>\n",
              "      <td>0.164941</td>\n",
              "      <td>0.792039</td>\n",
              "    </tr>\n",
              "    <tr>\n",
              "      <th>g4</th>\n",
              "      <td>0.958034</td>\n",
              "      <td>0.78176</td>\n",
              "      <td>0.109853</td>\n",
              "      <td>0.362718</td>\n",
              "      <td>0.820923</td>\n",
              "      <td>0.469931</td>\n",
              "      <td>0.37663</td>\n",
              "      <td>0.380544</td>\n",
              "      <td>0.482439</td>\n",
              "      <td>0.116263</td>\n",
              "    </tr>\n",
              "    <tr>\n",
              "      <th>stab</th>\n",
              "      <td>0.0553475</td>\n",
              "      <td>-0.00595746</td>\n",
              "      <td>0.00347088</td>\n",
              "      <td>0.0288705</td>\n",
              "      <td>0.0498604</td>\n",
              "      <td>-0.0173849</td>\n",
              "      <td>0.00595357</td>\n",
              "      <td>0.0166343</td>\n",
              "      <td>-0.0386766</td>\n",
              "      <td>0.0123834</td>\n",
              "    </tr>\n",
              "    <tr>\n",
              "      <th>stabf</th>\n",
              "      <td>unstable</td>\n",
              "      <td>stable</td>\n",
              "      <td>unstable</td>\n",
              "      <td>unstable</td>\n",
              "      <td>unstable</td>\n",
              "      <td>stable</td>\n",
              "      <td>unstable</td>\n",
              "      <td>unstable</td>\n",
              "      <td>stable</td>\n",
              "      <td>unstable</td>\n",
              "    </tr>\n",
              "  </tbody>\n",
              "</table>\n",
              "</div>"
            ],
            "text/plain": [
              "               0           1           2  ...          7          8          9\n",
              "tau1     2.95906      9.3041     8.97171  ...    6.95351    4.68985     9.8415\n",
              "tau2     3.07989     4.90252     8.84843  ...    1.37913    4.00775    1.41382\n",
              "tau3     8.38103     3.04754     3.04648  ...     5.7194    1.47857    9.76986\n",
              "tau4     9.78075     1.36936     1.21452  ...    7.87031    3.73379    7.64162\n",
              "p1       3.76308     5.06781     3.40516  ...     3.2245     4.0413     4.7276\n",
              "p2     -0.782604    -1.94006    -1.20746  ...  -0.748998   -1.41034   -1.99136\n",
              "p3      -1.25739    -1.87274    -1.27721  ...   -1.18652    -1.2382  -0.857637\n",
              "p4      -1.72309    -1.25501   -0.920492  ...   -1.28898   -1.39275   -1.87859\n",
              "g1      0.650456    0.413441    0.163041  ...   0.371385   0.269708   0.376356\n",
              "g2      0.859578    0.862414    0.766689  ...   0.633204   0.250364   0.544415\n",
              "g3      0.887445    0.562139    0.839444  ...   0.732741   0.164941   0.792039\n",
              "g4      0.958034     0.78176    0.109853  ...   0.380544   0.482439   0.116263\n",
              "stab   0.0553475 -0.00595746  0.00347088  ...  0.0166343 -0.0386766  0.0123834\n",
              "stabf   unstable      stable    unstable  ...   unstable     stable   unstable\n",
              "\n",
              "[14 rows x 10 columns]"
            ]
          },
          "metadata": {},
          "execution_count": 4
        }
      ]
    },
    {
      "cell_type": "code",
      "metadata": {
        "colab": {
          "base_uri": "https://localhost:8080/"
        },
        "id": "t6zSXFn6fTNV",
        "outputId": "4d298e06-94f2-4fbd-db5a-b589bef68047"
      },
      "source": [
        "data.isna().sum()"
      ],
      "execution_count": 5,
      "outputs": [
        {
          "output_type": "execute_result",
          "data": {
            "text/plain": [
              "tau1     0\n",
              "tau2     0\n",
              "tau3     0\n",
              "tau4     0\n",
              "p1       0\n",
              "p2       0\n",
              "p3       0\n",
              "p4       0\n",
              "g1       0\n",
              "g2       0\n",
              "g3       0\n",
              "g4       0\n",
              "stab     0\n",
              "stabf    0\n",
              "dtype: int64"
            ]
          },
          "metadata": {},
          "execution_count": 5
        }
      ]
    },
    {
      "cell_type": "markdown",
      "metadata": {
        "id": "CytD4RrDfTcZ"
      },
      "source": [
        "We are required to drop the \"stab\" column"
      ]
    },
    {
      "cell_type": "code",
      "metadata": {
        "id": "jOxhrKbCfTrK"
      },
      "source": [
        "data_df = data.drop(columns='stab')"
      ],
      "execution_count": 6,
      "outputs": []
    },
    {
      "cell_type": "code",
      "metadata": {
        "colab": {
          "base_uri": "https://localhost:8080/",
          "height": 200
        },
        "id": "3wmhHbDdfTzk",
        "outputId": "6d775919-dbe4-4086-d0ca-293c2c73e1af"
      },
      "source": [
        "data_df.head(5)"
      ],
      "execution_count": 7,
      "outputs": [
        {
          "output_type": "execute_result",
          "data": {
            "text/html": [
              "<div>\n",
              "<style scoped>\n",
              "    .dataframe tbody tr th:only-of-type {\n",
              "        vertical-align: middle;\n",
              "    }\n",
              "\n",
              "    .dataframe tbody tr th {\n",
              "        vertical-align: top;\n",
              "    }\n",
              "\n",
              "    .dataframe thead th {\n",
              "        text-align: right;\n",
              "    }\n",
              "</style>\n",
              "<table border=\"1\" class=\"dataframe\">\n",
              "  <thead>\n",
              "    <tr style=\"text-align: right;\">\n",
              "      <th></th>\n",
              "      <th>tau1</th>\n",
              "      <th>tau2</th>\n",
              "      <th>tau3</th>\n",
              "      <th>tau4</th>\n",
              "      <th>p1</th>\n",
              "      <th>p2</th>\n",
              "      <th>p3</th>\n",
              "      <th>p4</th>\n",
              "      <th>g1</th>\n",
              "      <th>g2</th>\n",
              "      <th>g3</th>\n",
              "      <th>g4</th>\n",
              "      <th>stabf</th>\n",
              "    </tr>\n",
              "  </thead>\n",
              "  <tbody>\n",
              "    <tr>\n",
              "      <th>0</th>\n",
              "      <td>2.959060</td>\n",
              "      <td>3.079885</td>\n",
              "      <td>8.381025</td>\n",
              "      <td>9.780754</td>\n",
              "      <td>3.763085</td>\n",
              "      <td>-0.782604</td>\n",
              "      <td>-1.257395</td>\n",
              "      <td>-1.723086</td>\n",
              "      <td>0.650456</td>\n",
              "      <td>0.859578</td>\n",
              "      <td>0.887445</td>\n",
              "      <td>0.958034</td>\n",
              "      <td>unstable</td>\n",
              "    </tr>\n",
              "    <tr>\n",
              "      <th>1</th>\n",
              "      <td>9.304097</td>\n",
              "      <td>4.902524</td>\n",
              "      <td>3.047541</td>\n",
              "      <td>1.369357</td>\n",
              "      <td>5.067812</td>\n",
              "      <td>-1.940058</td>\n",
              "      <td>-1.872742</td>\n",
              "      <td>-1.255012</td>\n",
              "      <td>0.413441</td>\n",
              "      <td>0.862414</td>\n",
              "      <td>0.562139</td>\n",
              "      <td>0.781760</td>\n",
              "      <td>stable</td>\n",
              "    </tr>\n",
              "    <tr>\n",
              "      <th>2</th>\n",
              "      <td>8.971707</td>\n",
              "      <td>8.848428</td>\n",
              "      <td>3.046479</td>\n",
              "      <td>1.214518</td>\n",
              "      <td>3.405158</td>\n",
              "      <td>-1.207456</td>\n",
              "      <td>-1.277210</td>\n",
              "      <td>-0.920492</td>\n",
              "      <td>0.163041</td>\n",
              "      <td>0.766689</td>\n",
              "      <td>0.839444</td>\n",
              "      <td>0.109853</td>\n",
              "      <td>unstable</td>\n",
              "    </tr>\n",
              "    <tr>\n",
              "      <th>3</th>\n",
              "      <td>0.716415</td>\n",
              "      <td>7.669600</td>\n",
              "      <td>4.486641</td>\n",
              "      <td>2.340563</td>\n",
              "      <td>3.963791</td>\n",
              "      <td>-1.027473</td>\n",
              "      <td>-1.938944</td>\n",
              "      <td>-0.997374</td>\n",
              "      <td>0.446209</td>\n",
              "      <td>0.976744</td>\n",
              "      <td>0.929381</td>\n",
              "      <td>0.362718</td>\n",
              "      <td>unstable</td>\n",
              "    </tr>\n",
              "    <tr>\n",
              "      <th>4</th>\n",
              "      <td>3.134112</td>\n",
              "      <td>7.608772</td>\n",
              "      <td>4.943759</td>\n",
              "      <td>9.857573</td>\n",
              "      <td>3.525811</td>\n",
              "      <td>-1.125531</td>\n",
              "      <td>-1.845975</td>\n",
              "      <td>-0.554305</td>\n",
              "      <td>0.797110</td>\n",
              "      <td>0.455450</td>\n",
              "      <td>0.656947</td>\n",
              "      <td>0.820923</td>\n",
              "      <td>unstable</td>\n",
              "    </tr>\n",
              "  </tbody>\n",
              "</table>\n",
              "</div>"
            ],
            "text/plain": [
              "       tau1      tau2      tau3  ...        g3        g4     stabf\n",
              "0  2.959060  3.079885  8.381025  ...  0.887445  0.958034  unstable\n",
              "1  9.304097  4.902524  3.047541  ...  0.562139  0.781760    stable\n",
              "2  8.971707  8.848428  3.046479  ...  0.839444  0.109853  unstable\n",
              "3  0.716415  7.669600  4.486641  ...  0.929381  0.362718  unstable\n",
              "4  3.134112  7.608772  4.943759  ...  0.656947  0.820923  unstable\n",
              "\n",
              "[5 rows x 13 columns]"
            ]
          },
          "metadata": {},
          "execution_count": 7
        }
      ]
    },
    {
      "cell_type": "code",
      "metadata": {
        "colab": {
          "base_uri": "https://localhost:8080/"
        },
        "id": "TfygIdDbfT83",
        "outputId": "511a21fd-ae95-4099-ba42-4754900211ef"
      },
      "source": [
        "data_df.stabf.value_counts()"
      ],
      "execution_count": 8,
      "outputs": [
        {
          "output_type": "execute_result",
          "data": {
            "text/plain": [
              "unstable    6380\n",
              "stable      3620\n",
              "Name: stabf, dtype: int64"
            ]
          },
          "metadata": {},
          "execution_count": 8
        }
      ]
    },
    {
      "cell_type": "code",
      "metadata": {
        "colab": {
          "base_uri": "https://localhost:8080/",
          "height": 265
        },
        "id": "H5PyBmh3fUHy",
        "outputId": "ebd07e7f-66ac-48b0-d16a-b185b1ac2ddb"
      },
      "source": [
        "plt.hist(data_df['stabf'])\n",
        "plt.show()"
      ],
      "execution_count": 9,
      "outputs": [
        {
          "output_type": "display_data",
          "data": {
            "image/png": "[encoded data removed]",
            "text/plain": [
              "<Figure size 432x288 with 1 Axes>"
            ]
          },
          "metadata": {
            "needs_background": "light"
          }
        }
      ]
    },
    {
      "cell_type": "markdown",
      "metadata": {
        "id": "PCgt61CwfUTf"
      },
      "source": [
        "From what we can see from the data, there is no need for encoding, so we do data splitting next!"
      ]
    },
    {
      "cell_type": "code",
      "metadata": {
        "id": "t9OEVv1ejyLE"
      },
      "source": [
        "# form the target and feature varaibles\n",
        "X = data_df.drop(columns =['stabf'])\n",
        "y = data_df.stabf"
      ],
      "execution_count": 10,
      "outputs": []
    },
    {
      "cell_type": "code",
      "metadata": {
        "colab": {
          "base_uri": "https://localhost:8080/"
        },
        "id": "W_LHmXzgol3I",
        "outputId": "6f7bd0a5-e286-4c98-c922-fb0265524a6f"
      },
      "source": [
        "x_train, x_test, y_train, y_test = train_test_split(X, y, test_size=0.2, random_state=1)\n",
        "y_train.value_counts()"
      ],
      "execution_count": 11,
      "outputs": [
        {
          "output_type": "execute_result",
          "data": {
            "text/plain": [
              "unstable    5092\n",
              "stable      2908\n",
              "Name: stabf, dtype: int64"
            ]
          },
          "metadata": {},
          "execution_count": 11
        }
      ]
    },
    {
      "cell_type": "markdown",
      "metadata": {
        "id": "sgIiyznrol_V"
      },
      "source": [
        "Performing Scaling"
      ]
    },
    {
      "cell_type": "code",
      "metadata": {
        "id": "aSNZ_XfLpDg7"
      },
      "source": [
        "scaler= StandardScaler()\n",
        "x_train_scaled = scaler.fit_transform(x_train)\n",
        "\n",
        "x_test_scaled = scaler.transform(x_test)"
      ],
      "execution_count": 12,
      "outputs": []
    },
    {
      "cell_type": "markdown",
      "metadata": {
        "id": "dyx23c9GpDoN"
      },
      "source": [
        "### Models And their Respective evaluations"
      ]
    },
    {
      "cell_type": "code",
      "metadata": {
        "id": "Nm_5MepzjyS3"
      },
      "source": [
        "rndC = RandomForestClassifier(random_state=1)\n",
        "rndC.fit(x_train_scaled, y_train)\n",
        "rf_predictions = rndC.predict(x_test_scaled)"
      ],
      "execution_count": 13,
      "outputs": []
    },
    {
      "cell_type": "code",
      "metadata": {
        "colab": {
          "base_uri": "https://localhost:8080/"
        },
        "id": "ETAOg7DdjyZ3",
        "outputId": "b1733432-c787-4dd4-f101-e2b83d49a993"
      },
      "source": [
        "rf_predictions"
      ],
      "execution_count": 14,
      "outputs": [
        {
          "output_type": "execute_result",
          "data": {
            "text/plain": [
              "array(['unstable', 'unstable', 'stable', ..., 'stable', 'stable',\n",
              "       'unstable'], dtype=object)"
            ]
          },
          "metadata": {},
          "execution_count": 14
        }
      ]
    },
    {
      "cell_type": "code",
      "metadata": {
        "colab": {
          "base_uri": "https://localhost:8080/"
        },
        "id": "Na7OWrRFjyll",
        "outputId": "128e797b-9971-4b2b-9910-818c1891ef08"
      },
      "source": [
        "print(classification_report(y_test, rf_predictions, digits=4))"
      ],
      "execution_count": 15,
      "outputs": [
        {
          "output_type": "stream",
          "name": "stdout",
          "text": [
            "              precision    recall  f1-score   support\n",
            "\n",
            "      stable     0.9191    0.8778    0.8980       712\n",
            "    unstable     0.9341    0.9573    0.9456      1288\n",
            "\n",
            "    accuracy                         0.9290      2000\n",
            "   macro avg     0.9266    0.9176    0.9218      2000\n",
            "weighted avg     0.9288    0.9290    0.9286      2000\n",
            "\n"
          ]
        }
      ]
    },
    {
      "cell_type": "code",
      "metadata": {
        "colab": {
          "base_uri": "https://localhost:8080/"
        },
        "id": "x-UhdX39rSGl",
        "outputId": "22bc35b9-c3ff-4112-fc9c-348f08e9a561"
      },
      "source": [
        "accuracy_score(y_test, rf_predictions)"
      ],
      "execution_count": 16,
      "outputs": [
        {
          "output_type": "execute_result",
          "data": {
            "text/plain": [
              "0.929"
            ]
          },
          "metadata": {},
          "execution_count": 16
        }
      ]
    },
    {
      "cell_type": "code",
      "metadata": {
        "colab": {
          "base_uri": "https://localhost:8080/"
        },
        "id": "n4bxBiZH3kEU",
        "outputId": "5c985d82-62c0-4c34-81da-90c8a2bb032c"
      },
      "source": [
        "print(confusion_matrix(y_true=y_test, y_pred=rf_predictions, labels=['stable', 'unstable']))"
      ],
      "execution_count": 17,
      "outputs": [
        {
          "output_type": "stream",
          "name": "stdout",
          "text": [
            "[[ 625   87]\n",
            " [  55 1233]]\n"
          ]
        }
      ]
    },
    {
      "cell_type": "markdown",
      "metadata": {
        "id": "_i99S9j8-UCZ"
      },
      "source": [
        "**Extra Tree Classifier**"
      ]
    },
    {
      "cell_type": "code",
      "metadata": {
        "id": "L2tcMinV5dAO"
      },
      "source": [
        "X_tree = ExtraTreesClassifier(random_state=1)\n",
        "X_tree.fit(x_train_scaled, y_train)\n",
        "X_tree_pred = X_tree.predict(x_test_scaled)"
      ],
      "execution_count": 23,
      "outputs": []
    },
    {
      "cell_type": "markdown",
      "metadata": {
        "id": "PAH-1N3EZEWK"
      },
      "source": [
        "## **An ExtraTreesClassifier with parameters from hyper-tuning**"
      ]
    },
    {
      "cell_type": "code",
      "metadata": {
        "id": "ZXR5B7OVUZYw"
      },
      "source": [
        "X_tree_2 = ExtraTreesClassifier(n_estimators = 1000, max_features = None, min_samples_leaf = 8, min_samples_split = 2, random_state=1)\n",
        "X_tree_2.fit(x_train_scaled, y_train)\n",
        "X_tree_pred2 = X_tree_2.predict(x_test_scaled)"
      ],
      "execution_count": 47,
      "outputs": []
    },
    {
      "cell_type": "code",
      "metadata": {
        "colab": {
          "base_uri": "https://localhost:8080/"
        },
        "id": "3ub7GmpFUlll",
        "outputId": "01de1174-8549-469c-cb16-3c1071f416bb"
      },
      "source": [
        "print(classification_report(y_test, X_tree_pred2, digits=4))"
      ],
      "execution_count": 48,
      "outputs": [
        {
          "output_type": "stream",
          "name": "stdout",
          "text": [
            "              precision    recall  f1-score   support\n",
            "\n",
            "      stable     0.9211    0.8694    0.8945       712\n",
            "    unstable     0.9300    0.9589    0.9442      1288\n",
            "\n",
            "    accuracy                         0.9270      2000\n",
            "   macro avg     0.9256    0.9141    0.9193      2000\n",
            "weighted avg     0.9268    0.9270    0.9265      2000\n",
            "\n"
          ]
        }
      ]
    },
    {
      "cell_type": "code",
      "metadata": {
        "colab": {
          "base_uri": "https://localhost:8080/"
        },
        "id": "9EZYnX8h5eh7",
        "outputId": "10db87ea-05aa-47fe-c1cc-de4e7ad0acd6"
      },
      "source": [
        "print(classification_report(y_test, X_tree_pred, digits=4))"
      ],
      "execution_count": 26,
      "outputs": [
        {
          "output_type": "stream",
          "name": "stdout",
          "text": [
            "              precision    recall  f1-score   support\n",
            "\n",
            "      stable     0.9410    0.8511    0.8938       712\n",
            "    unstable     0.9218    0.9705    0.9455      1288\n",
            "\n",
            "    accuracy                         0.9280      2000\n",
            "   macro avg     0.9314    0.9108    0.9197      2000\n",
            "weighted avg     0.9287    0.9280    0.9271      2000\n",
            "\n"
          ]
        }
      ]
    },
    {
      "cell_type": "code",
      "metadata": {
        "colab": {
          "base_uri": "https://localhost:8080/"
        },
        "id": "rVuZGmDF5fMt",
        "outputId": "9a23d67e-d84e-41f7-cecb-6491a6eb78f3"
      },
      "source": [
        "accuracy_score(y_test, X_tree_pred)"
      ],
      "execution_count": 25,
      "outputs": [
        {
          "output_type": "execute_result",
          "data": {
            "text/plain": [
              "0.928"
            ]
          },
          "metadata": {},
          "execution_count": 25
        }
      ]
    },
    {
      "cell_type": "markdown",
      "metadata": {
        "id": "UaQAkzYkZjqO"
      },
      "source": [
        "We can observe the accuracies of the classifier of the one with tuning and the other without tuning from the Above"
      ]
    },
    {
      "cell_type": "code",
      "metadata": {
        "colab": {
          "base_uri": "https://localhost:8080/"
        },
        "id": "D8DdaKXa5fbw",
        "outputId": "6aacc543-0ae3-4159-8fd5-a625cda3abc8"
      },
      "source": [
        "print(confusion_matrix(y_true=y_test, y_pred=X_tree_pred, labels=['stable', 'unstable']))"
      ],
      "execution_count": 27,
      "outputs": [
        {
          "output_type": "stream",
          "name": "stdout",
          "text": [
            "[[ 606  106]\n",
            " [  38 1250]]\n"
          ]
        }
      ]
    },
    {
      "cell_type": "markdown",
      "metadata": {
        "id": "pF_sSFuE-ja7"
      },
      "source": [
        "XGB Classifier Comparison"
      ]
    },
    {
      "cell_type": "code",
      "metadata": {
        "id": "d9oGpQ14rSOH"
      },
      "source": [
        "xgb = XGBClassifier(max_depth=3,learning_rate=0.1, random_state=1)\n",
        "xgb.fit(x_train_scaled, y_train)\n",
        "xgb_pred = xgb.predict(x_test_scaled)"
      ],
      "execution_count": 18,
      "outputs": []
    },
    {
      "cell_type": "code",
      "metadata": {
        "colab": {
          "base_uri": "https://localhost:8080/"
        },
        "id": "XicB1v5TrSWg",
        "outputId": "45e84b2c-69d3-48dd-d25d-63659e29c2c0"
      },
      "source": [
        "accuracy_score(y_test, xgb_pred)"
      ],
      "execution_count": 19,
      "outputs": [
        {
          "output_type": "execute_result",
          "data": {
            "text/plain": [
              "0.9195"
            ]
          },
          "metadata": {},
          "execution_count": 19
        }
      ]
    },
    {
      "cell_type": "code",
      "metadata": {
        "colab": {
          "base_uri": "https://localhost:8080/"
        },
        "id": "oho0wqUA4I8K",
        "outputId": "09d884c3-d7b5-4da0-eb27-05985f8a5d24"
      },
      "source": [
        "print(classification_report(y_test, xgb_pred, digits=4))"
      ],
      "execution_count": 20,
      "outputs": [
        {
          "output_type": "stream",
          "name": "stdout",
          "text": [
            "              precision    recall  f1-score   support\n",
            "\n",
            "      stable     0.9206    0.8469    0.8822       712\n",
            "    unstable     0.9190    0.9596    0.9389      1288\n",
            "\n",
            "    accuracy                         0.9195      2000\n",
            "   macro avg     0.9198    0.9033    0.9105      2000\n",
            "weighted avg     0.9195    0.9195    0.9187      2000\n",
            "\n"
          ]
        }
      ]
    },
    {
      "cell_type": "code",
      "metadata": {
        "colab": {
          "base_uri": "https://localhost:8080/"
        },
        "id": "qi8wxAPN4JEa",
        "outputId": "3855352f-66c4-4623-cb8c-54eda20e140d"
      },
      "source": [
        "print(confusion_matrix(y_true=y_test, y_pred=xgb_pred, labels=['stable', 'unstable']))"
      ],
      "execution_count": 22,
      "outputs": [
        {
          "output_type": "stream",
          "name": "stdout",
          "text": [
            "[[ 603  109]\n",
            " [  52 1236]]\n"
          ]
        }
      ]
    },
    {
      "cell_type": "code",
      "metadata": {
        "id": "YHQFsLN7rSb6"
      },
      "source": [
        "xgb1 = XGBRFClassifier(max_depth=3,learning_rate=0.1, random_state=1)\n",
        "xgb1.fit(x_train_scaled, y_train)\n",
        "xgb_pred1 = xgb.predict(x_test_scaled)"
      ],
      "execution_count": 40,
      "outputs": []
    },
    {
      "cell_type": "code",
      "metadata": {
        "colab": {
          "base_uri": "https://localhost:8080/"
        },
        "id": "M4pHmu89rSjc",
        "outputId": "43cf323d-9011-4de2-8328-3726b526e03a"
      },
      "source": [
        "accuracy_score(y_test, xgb_pred1)"
      ],
      "execution_count": 27,
      "outputs": [
        {
          "output_type": "execute_result",
          "data": {
            "text/plain": [
              "0.9195"
            ]
          },
          "metadata": {},
          "execution_count": 27
        }
      ]
    },
    {
      "cell_type": "markdown",
      "metadata": {
        "id": "QSiyX8Y8rSpF"
      },
      "source": [
        "### LightGbM Classifier"
      ]
    },
    {
      "cell_type": "code",
      "metadata": {
        "id": "KesCSByFrSxU"
      },
      "source": [
        "lgbm = LGBMClassifier(random_state=1)\n",
        "lgbm.fit(x_train_scaled, y_train)\n",
        "lgbm_pred = lgbm.predict(x_test_scaled)"
      ],
      "execution_count": 28,
      "outputs": []
    },
    {
      "cell_type": "code",
      "metadata": {
        "colab": {
          "base_uri": "https://localhost:8080/"
        },
        "id": "GaJ0yQL-rS3c",
        "outputId": "1dcafc6b-7461-4b92-8591-8b89d3e8b681"
      },
      "source": [
        "print(confusion_matrix(y_true=y_test, y_pred=xgb_pred, labels=['stable', 'unstable']))"
      ],
      "execution_count": 29,
      "outputs": [
        {
          "output_type": "stream",
          "name": "stdout",
          "text": [
            "[[ 603  109]\n",
            " [  52 1236]]\n"
          ]
        }
      ]
    },
    {
      "cell_type": "code",
      "metadata": {
        "colab": {
          "base_uri": "https://localhost:8080/"
        },
        "id": "1vcwLZ3Q_y00",
        "outputId": "5665dc34-10f3-443f-a331-f5ebd6fa8bae"
      },
      "source": [
        "print(classification_report(y_test, lgbm_pred, digits=4))"
      ],
      "execution_count": 30,
      "outputs": [
        {
          "output_type": "stream",
          "name": "stdout",
          "text": [
            "              precision    recall  f1-score   support\n",
            "\n",
            "      stable     0.9297    0.8919    0.9104       712\n",
            "    unstable     0.9415    0.9627    0.9520      1288\n",
            "\n",
            "    accuracy                         0.9375      2000\n",
            "   macro avg     0.9356    0.9273    0.9312      2000\n",
            "weighted avg     0.9373    0.9375    0.9372      2000\n",
            "\n"
          ]
        }
      ]
    },
    {
      "cell_type": "markdown",
      "metadata": {
        "id": "aGDDGStiAO6L"
      },
      "source": [
        "**RandomsizedCV to improve the EXtra Tree Classifier**"
      ]
    },
    {
      "cell_type": "code",
      "metadata": {
        "id": "gr82iHqCfUcn"
      },
      "source": [
        "n_estimators = [50, 100, 300, 500, 1000]\n",
        "min_samples_split = [2, 3, 5, 7, 9]\n",
        "min_samples_leaf = [1, 2, 4, 6, 8]\n",
        "max_features = ['auto', 'sqrt', 'log2', None]\n",
        "\n",
        "hyperparameter_grid = {'n_estimators': n_estimators, 'min_samples_leaf': min_samples_leaf,\n",
        "                       'min_samples_split': min_samples_split, 'max_features': max_features}"
      ],
      "execution_count": 31,
      "outputs": []
    },
    {
      "cell_type": "code",
      "metadata": {
        "colab": {
          "base_uri": "https://localhost:8080/"
        },
        "id": "Yj8d7pzffUl3",
        "outputId": "65bbdaac-13de-4e29-e17a-965c14298a6e"
      },
      "source": [
        "Random_Search = RandomizedSearchCV(X_tree, hyperparameter_grid, cv=5, n_iter=10, scoring = 'accuracy', n_jobs = -1, verbose = 1, random_state=1)\n",
        "Random_Search.fit(x_train_scaled, y_train)\n",
        "Rn_search_pred = Random_Search.predict(x_test_scaled)"
      ],
      "execution_count": 44,
      "outputs": [
        {
          "output_type": "stream",
          "name": "stdout",
          "text": [
            "Fitting 5 folds for each of 10 candidates, totalling 50 fits\n"
          ]
        },
        {
          "output_type": "stream",
          "name": "stderr",
          "text": [
            "[Parallel(n_jobs=-1)]: Using backend LokyBackend with 2 concurrent workers.\n",
            "[Parallel(n_jobs=-1)]: Done  46 tasks      | elapsed:  1.5min\n",
            "[Parallel(n_jobs=-1)]: Done  50 out of  50 | elapsed:  1.5min finished\n"
          ]
        }
      ]
    },
    {
      "cell_type": "code",
      "metadata": {
        "colab": {
          "base_uri": "https://localhost:8080/"
        },
        "id": "KDtwMD4rTut7",
        "outputId": "6fcb64b5-1f7c-4485-b1b7-8a38efb9b332"
      },
      "source": [
        "Random_Search.best_params_"
      ],
      "execution_count": 45,
      "outputs": [
        {
          "output_type": "execute_result",
          "data": {
            "text/plain": [
              "{'max_features': None,\n",
              " 'min_samples_leaf': 8,\n",
              " 'min_samples_split': 2,\n",
              " 'n_estimators': 1000}"
            ]
          },
          "metadata": {},
          "execution_count": 45
        }
      ]
    },
    {
      "cell_type": "code",
      "metadata": {
        "colab": {
          "base_uri": "https://localhost:8080/"
        },
        "id": "k8Y2OhMefUvU",
        "outputId": "9e831be7-6029-4d63-a5c9-6da4847ff5e8"
      },
      "source": [
        "print(confusion_matrix(y_true=y_test, y_pred=Rn_search_pred, labels=['stable', 'unstable']))"
      ],
      "execution_count": 33,
      "outputs": [
        {
          "output_type": "stream",
          "name": "stdout",
          "text": [
            "[[ 619   93]\n",
            " [  53 1235]]\n"
          ]
        }
      ]
    },
    {
      "cell_type": "code",
      "metadata": {
        "colab": {
          "base_uri": "https://localhost:8080/"
        },
        "id": "VYiBAqRKjzAL",
        "outputId": "558f310b-50fe-44d5-c42e-9205e4620f3f"
      },
      "source": [
        "print(classification_report(y_test, Rn_search_pred, digits=4))"
      ],
      "execution_count": 35,
      "outputs": [
        {
          "output_type": "stream",
          "name": "stdout",
          "text": [
            "              precision    recall  f1-score   support\n",
            "\n",
            "      stable     0.9211    0.8694    0.8945       712\n",
            "    unstable     0.9300    0.9589    0.9442      1288\n",
            "\n",
            "    accuracy                         0.9270      2000\n",
            "   macro avg     0.9256    0.9141    0.9193      2000\n",
            "weighted avg     0.9268    0.9270    0.9265      2000\n",
            "\n"
          ]
        }
      ]
    },
    {
      "cell_type": "markdown",
      "metadata": {
        "id": "h_7Q9_5W_zPd"
      },
      "source": [
        "## We can write an utility function to compute Cross validation scores"
      ]
    },
    {
      "cell_type": "code",
      "metadata": {
        "id": "kLQ-p77DEHHp"
      },
      "source": [
        "def cross_valid(model, X_train = x_train_scaled, X_test = x_test_scaled, y_train=y_train ):\n",
        "    scores = cross_val_score(model, X_train, y_train, cv=5, scoring='f1_macro')\n",
        "    return scores.mean()*100"
      ],
      "execution_count": 37,
      "outputs": []
    },
    {
      "cell_type": "code",
      "metadata": {
        "colab": {
          "base_uri": "https://localhost:8080/"
        },
        "id": "RmOtSJ3uEl-h",
        "outputId": "074e9118-9cc6-47aa-edf3-d461aee03b3c"
      },
      "source": [
        "print(\"Cross val score of RandomClassifier \\n\", cross_valid(rndC))\n",
        "print(\"Cross val score of ExtraTreesClassifier \\n\", cross_valid(X_tree))\n",
        "print(\"Cross val score of XGBClassifier \\n\", cross_valid(xgb))\n",
        "print(\"Cross val score of XGBRFClassifier \\n\", cross_valid(xgb1))\n",
        "print(\"Cross val score of LGBMClassifier \\n\", cross_valid(lgbm))\n",
        "print(\"Cross val score of RandomizedSearchCV \\n\", cross_valid(Random_Search))"
      ],
      "execution_count": 41,
      "outputs": [
        {
          "output_type": "stream",
          "name": "stdout",
          "text": [
            "Cross val score of RandomClassifier \n",
            " 91.12309265936217\n",
            "Cross val score of ExtraTreesClassifier \n",
            " 91.46867832800964\n",
            "Cross val score of XGBClassifier \n",
            " 91.3159560444606\n",
            "Cross val score of XGBRFClassifier \n",
            " 75.84575291609639\n",
            "Cross val score of LGBMClassifier \n",
            " 93.30569051679414\n",
            "Cross val score of RandomizedSearchCV \n",
            " 91.64456884977612\n"
          ]
        }
      ]
    },
    {
      "cell_type": "code",
      "metadata": {
        "id": "P92P9--YFklF"
      },
      "source": [
        "feature_importance = X_tree.feature_importances_"
      ],
      "execution_count": 49,
      "outputs": []
    },
    {
      "cell_type": "code",
      "metadata": {
        "colab": {
          "base_uri": "https://localhost:8080/"
        },
        "id": "9Qvr87ZjUVf6",
        "outputId": "6a0fc339-ebcc-4196-a049-a4806142e338"
      },
      "source": [
        "feature_importance"
      ],
      "execution_count": 51,
      "outputs": [
        {
          "output_type": "execute_result",
          "data": {
            "text/plain": [
              "array([0.11739736, 0.11844468, 0.11316851, 0.11546569, 0.03950675,\n",
              "       0.04037132, 0.04070628, 0.04057864, 0.08978291, 0.09367636,\n",
              "       0.09688268, 0.09401882])"
            ]
          },
          "metadata": {},
          "execution_count": 51
        }
      ]
    },
    {
      "cell_type": "code",
      "metadata": {
        "colab": {
          "base_uri": "https://localhost:8080/",
          "height": 411
        },
        "id": "QXwTyzEOWjO0",
        "outputId": "31fdc763-eb14-4786-8612-47fc63c5051e"
      },
      "source": [
        "feature_import"
      ],
      "execution_count": 54,
      "outputs": [
        {
          "output_type": "execute_result",
          "data": {
            "text/html": [
              "<div>\n",
              "<style scoped>\n",
              "    .dataframe tbody tr th:only-of-type {\n",
              "        vertical-align: middle;\n",
              "    }\n",
              "\n",
              "    .dataframe tbody tr th {\n",
              "        vertical-align: top;\n",
              "    }\n",
              "\n",
              "    .dataframe thead th {\n",
              "        text-align: right;\n",
              "    }\n",
              "</style>\n",
              "<table border=\"1\" class=\"dataframe\">\n",
              "  <thead>\n",
              "    <tr style=\"text-align: right;\">\n",
              "      <th></th>\n",
              "      <th>0</th>\n",
              "    </tr>\n",
              "  </thead>\n",
              "  <tbody>\n",
              "    <tr>\n",
              "      <th>0</th>\n",
              "      <td>0.117397</td>\n",
              "    </tr>\n",
              "    <tr>\n",
              "      <th>1</th>\n",
              "      <td>0.118445</td>\n",
              "    </tr>\n",
              "    <tr>\n",
              "      <th>2</th>\n",
              "      <td>0.113169</td>\n",
              "    </tr>\n",
              "    <tr>\n",
              "      <th>3</th>\n",
              "      <td>0.115466</td>\n",
              "    </tr>\n",
              "    <tr>\n",
              "      <th>4</th>\n",
              "      <td>0.039507</td>\n",
              "    </tr>\n",
              "    <tr>\n",
              "      <th>5</th>\n",
              "      <td>0.040371</td>\n",
              "    </tr>\n",
              "    <tr>\n",
              "      <th>6</th>\n",
              "      <td>0.040706</td>\n",
              "    </tr>\n",
              "    <tr>\n",
              "      <th>7</th>\n",
              "      <td>0.040579</td>\n",
              "    </tr>\n",
              "    <tr>\n",
              "      <th>8</th>\n",
              "      <td>0.089783</td>\n",
              "    </tr>\n",
              "    <tr>\n",
              "      <th>9</th>\n",
              "      <td>0.093676</td>\n",
              "    </tr>\n",
              "    <tr>\n",
              "      <th>10</th>\n",
              "      <td>0.096883</td>\n",
              "    </tr>\n",
              "    <tr>\n",
              "      <th>11</th>\n",
              "      <td>0.094019</td>\n",
              "    </tr>\n",
              "  </tbody>\n",
              "</table>\n",
              "</div>"
            ],
            "text/plain": [
              "           0\n",
              "0   0.117397\n",
              "1   0.118445\n",
              "2   0.113169\n",
              "3   0.115466\n",
              "4   0.039507\n",
              "5   0.040371\n",
              "6   0.040706\n",
              "7   0.040579\n",
              "8   0.089783\n",
              "9   0.093676\n",
              "10  0.096883\n",
              "11  0.094019"
            ]
          },
          "metadata": {},
          "execution_count": 54
        }
      ]
    },
    {
      "cell_type": "markdown",
      "metadata": {
        "id": "-u9Fn07lYmUo"
      },
      "source": [
        "**VISUALISING THE FEATURE IMPORTANCE TO TRACK THE MOST AND LEAST ONE**"
      ]
    },
    {
      "cell_type": "code",
      "metadata": {
        "colab": {
          "base_uri": "https://localhost:8080/",
          "height": 333
        },
        "id": "hRWt6SM6XUD9",
        "outputId": "9c127841-633e-4fa9-b672-094a4e6d6e7f"
      },
      "source": [
        "sns.barplot(x_train.columns, feature_importance)"
      ],
      "execution_count": 57,
      "outputs": [
        {
          "output_type": "stream",
          "name": "stderr",
          "text": [
            "/usr/local/lib/python3.7/dist-packages/seaborn/_decorators.py:43: FutureWarning: Pass the following variables as keyword args: x, y. From version 0.12, the only valid positional argument will be `data`, and passing other arguments without an explicit keyword will result in an error or misinterpretation.\n",
            "  FutureWarning\n"
          ]
        },
        {
          "output_type": "execute_result",
          "data": {
            "text/plain": [
              "<matplotlib.axes._subplots.AxesSubplot at 0x7f0d6a5c8f50>"
            ]
          },
          "metadata": {},
          "execution_count": 57
        },
        {
          "output_type": "display_data",
          "data": {
            "image/png": "[encoded data removed]",
            "text/plain": [
              "<Figure size 432x288 with 1 Axes>"
            ]
          },
          "metadata": {
            "needs_background": "light"
          }
        }
      ]
    }
  ]
}